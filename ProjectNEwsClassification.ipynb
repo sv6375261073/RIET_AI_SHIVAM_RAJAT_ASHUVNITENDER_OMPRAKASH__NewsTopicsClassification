{
 "cells": [
  {
   "cell_type": "code",
   "execution_count": 1,
   "metadata": {},
   "outputs": [
    {
     "name": "stderr",
     "output_type": "stream",
     "text": [
      "C:\\ProgramData\\Anaconda3\\lib\\site-packages\\sklearn\\cross_validation.py:41: DeprecationWarning: This module was deprecated in version 0.18 in favor of the model_selection module into which all the refactored classes and functions are moved. Also note that the interface of the new CV iterators are different from that of this module. This module will be removed in 0.20.\n",
      "  \"This module will be removed in 0.20.\", DeprecationWarning)\n"
     ]
    }
   ],
   "source": [
    "import sklearn\n",
    "import pandas as pd\n",
    "import numpy as np\n",
    "from docx import Document\n",
    "from sklearn.neighbors import KNeighborsClassifier\n",
    "from sklearn.neural_network import MLPClassifier\n",
    "from sklearn.naive_bayes import MultinomialNB,BernoulliNB\n",
    "from sklearn.cross_validation import train_test_split\n",
    "from sklearn.metrics import confusion_matrix,f1_score,accuracy_score\n",
    "from sklearn.feature_extraction.text import CountVectorizer,TfidfTransformer\n",
    "from sklearn.model_selection import train_test_split\n",
    "from sklearn.datasets import fetch_20newsgroups"
   ]
  },
  {
   "cell_type": "code",
   "execution_count": 2,
   "metadata": {
    "scrolled": false
   },
   "outputs": [],
   "source": [
    "df=fetch_20newsgroups()\n",
    "xtrain,xtest,ytrain,ytest=train_test_split(df.data,df.target,test_size=0.25,random_state=0)\n",
    "count_vect=CountVectorizer(input='content', encoding='utf-8', analyzer='word')\n",
    "tfid=TfidfTransformer()\n",
    "xtrain=count_vect.fit_transform(xtrain)\n",
    "xtest=count_vect.transform(xtest)\n",
    "xtrain=tfid.fit_transform(xtrain)\n",
    "xtest=tfid.fit_transform(xtest)"
   ]
  },
  {
   "cell_type": "code",
   "execution_count": 3,
   "metadata": {},
   "outputs": [],
   "source": [
    "model=MultinomialNB()\n",
    "model2=MLPClassifier(verbose=True,solver='adam')\n",
    "model3=KNeighborsClassifier()\n",
    "model4=BernoulliNB()"
   ]
  },
  {
   "cell_type": "code",
   "execution_count": 4,
   "metadata": {},
   "outputs": [],
   "source": [
    "ytrain=np.atleast_2d(ytrain.reshape(8485,1))"
   ]
  },
  {
   "cell_type": "code",
   "execution_count": 14,
   "metadata": {
    "scrolled": true
   },
   "outputs": [
    {
     "name": "stderr",
     "output_type": "stream",
     "text": [
      "C:\\ProgramData\\Anaconda3\\lib\\site-packages\\sklearn\\utils\\validation.py:578: DataConversionWarning: A column-vector y was passed when a 1d array was expected. Please change the shape of y to (n_samples, ), for example using ravel().\n",
      "  y = column_or_1d(y, warn=True)\n"
     ]
    },
    {
     "data": {
      "text/plain": [
       "MultinomialNB(alpha=1.0, class_prior=None, fit_prior=True)"
      ]
     },
     "execution_count": 14,
     "metadata": {},
     "output_type": "execute_result"
    }
   ],
   "source": [
    "model.fit(xtrain,ytrain)"
   ]
  },
  {
   "cell_type": "code",
   "execution_count": 5,
   "metadata": {},
   "outputs": [
    {
     "name": "stderr",
     "output_type": "stream",
     "text": [
      "C:\\ProgramData\\Anaconda3\\lib\\site-packages\\sklearn\\neural_network\\multilayer_perceptron.py:912: DataConversionWarning: A column-vector y was passed when a 1d array was expected. Please change the shape of y to (n_samples, ), for example using ravel().\n",
      "  y = column_or_1d(y, warn=True)\n"
     ]
    },
    {
     "name": "stdout",
     "output_type": "stream",
     "text": [
      "Iteration 1, loss = 2.81092701\n",
      "Iteration 2, loss = 2.05508383\n"
     ]
    },
    {
     "name": "stderr",
     "output_type": "stream",
     "text": [
      "C:\\ProgramData\\Anaconda3\\lib\\site-packages\\sklearn\\neural_network\\multilayer_perceptron.py:566: UserWarning: Training interrupted by user.\n",
      "  warnings.warn(\"Training interrupted by user.\")\n"
     ]
    },
    {
     "data": {
      "text/plain": [
       "MLPClassifier(activation='relu', alpha=0.0001, batch_size='auto', beta_1=0.9,\n",
       "       beta_2=0.999, early_stopping=False, epsilon=1e-08,\n",
       "       hidden_layer_sizes=(100,), learning_rate='constant',\n",
       "       learning_rate_init=0.001, max_iter=200, momentum=0.9,\n",
       "       nesterovs_momentum=True, power_t=0.5, random_state=None,\n",
       "       shuffle=True, solver='adam', tol=0.0001, validation_fraction=0.1,\n",
       "       verbose=True, warm_start=False)"
      ]
     },
     "execution_count": 5,
     "metadata": {},
     "output_type": "execute_result"
    }
   ],
   "source": [
    "model2.fit(xtrain,ytrain)"
   ]
  },
  {
   "cell_type": "code",
   "execution_count": 11,
   "metadata": {},
   "outputs": [
    {
     "name": "stderr",
     "output_type": "stream",
     "text": [
      "C:\\ProgramData\\Anaconda3\\lib\\site-packages\\ipykernel_launcher.py:1: DataConversionWarning: A column-vector y was passed when a 1d array was expected. Please change the shape of y to (n_samples, ), for example using ravel().\n",
      "  \"\"\"Entry point for launching an IPython kernel.\n"
     ]
    },
    {
     "data": {
      "text/plain": [
       "KNeighborsClassifier(algorithm='auto', leaf_size=30, metric='minkowski',\n",
       "           metric_params=None, n_jobs=1, n_neighbors=5, p=2,\n",
       "           weights='uniform')"
      ]
     },
     "execution_count": 11,
     "metadata": {},
     "output_type": "execute_result"
    }
   ],
   "source": [
    "model3.fit(xtrain,ytrain)"
   ]
  },
  {
   "cell_type": "code",
   "execution_count": 12,
   "metadata": {},
   "outputs": [
    {
     "name": "stderr",
     "output_type": "stream",
     "text": [
      "C:\\ProgramData\\Anaconda3\\lib\\site-packages\\sklearn\\utils\\validation.py:578: DataConversionWarning: A column-vector y was passed when a 1d array was expected. Please change the shape of y to (n_samples, ), for example using ravel().\n",
      "  y = column_or_1d(y, warn=True)\n"
     ]
    },
    {
     "data": {
      "text/plain": [
       "BernoulliNB(alpha=1.0, binarize=0.0, class_prior=None, fit_prior=True)"
      ]
     },
     "execution_count": 12,
     "metadata": {},
     "output_type": "execute_result"
    }
   ],
   "source": [
    "model4.fit(xtrain,ytrain)"
   ]
  },
  {
   "cell_type": "code",
   "execution_count": 15,
   "metadata": {},
   "outputs": [],
   "source": [
    "pred=model.predict(xtest)\n",
    "pred2=model2.predict(xtest)\n",
    "pred3=model3.predict(xtest)\n",
    "pred4=model4.predict(xtest)"
   ]
  },
  {
   "cell_type": "code",
   "execution_count": 16,
   "metadata": {},
   "outputs": [
    {
     "name": "stdout",
     "output_type": "stream",
     "text": [
      "0.8448214916931778 0.8932484977023684 0.7667020148462355 0.6673736302580418\n"
     ]
    }
   ],
   "source": [
    "print(accuracy_score(pred,ytest),\n",
    "accuracy_score(pred2,ytest),\n",
    "accuracy_score(pred3,ytest),\n",
    "accuracy_score(pred4,ytest))"
   ]
  },
  {
   "cell_type": "code",
   "execution_count": 17,
   "metadata": {},
   "outputs": [],
   "source": [
    "text=count_vect.transform([\" I was wondering if anyone out there could enlighten me on this car I sawthe other day. It was a 2-door sports car, looked to be from the late 60s/early 70s. It was called a Bricklin. The doors were really small. In addition,the front bumper was separate from the rest ofthe body. This is all I know. If anyone can tellme a model nam, engine specs, yearsof production, where this car is made, history, or whatever info youhave on this funk  \"])\n",
    "text=tfid.fit_transform(text)"
   ]
  },
  {
   "cell_type": "code",
   "execution_count": 18,
   "metadata": {},
   "outputs": [
    {
     "name": "stdout",
     "output_type": "stream",
     "text": [
      "[7] [7] [0] [6]\n"
     ]
    }
   ],
   "source": [
    "pred=model.predict(text)\n",
    "pred2=model2.predict(text)\n",
    "pred3=model3.predict(text)\n",
    "pred4=model4.predict(text)\n",
    "print(pred,pred2,pred3,pred4)"
   ]
  },
  {
   "cell_type": "code",
   "execution_count": 19,
   "metadata": {},
   "outputs": [
    {
     "data": {
      "text/plain": [
       "'rec.autos'"
      ]
     },
     "execution_count": 19,
     "metadata": {},
     "output_type": "execute_result"
    }
   ],
   "source": [
    "df.target_names[7]"
   ]
  },
  {
   "cell_type": "code",
   "execution_count": 20,
   "metadata": {},
   "outputs": [
    {
     "name": "stdout",
     "output_type": "stream",
     "text": [
      "rec.autos rec.autos alt.atheism misc.forsale\n"
     ]
    }
   ],
   "source": [
    "print(df.target_names[pred[0]],df.target_names[pred2[0]],df.target_names[pred3[0]],df.target_names[pred4[0]])"
   ]
  },
  {
   "cell_type": "code",
   "execution_count": null,
   "metadata": {},
   "outputs": [],
   "source": [
    "def call():\n",
    "    webbrowser.open_new(url)\n",
    "url=\"http://www.google.com\"\n",
    "text=''\n",
    "out=''\n",
    "def action():\n",
    "    global e\n",
    "\n",
    "    if(len(e.get())>25):\n",
    "        text = e.get()\n",
    "        text=count_vect.transform([text])\n",
    "        text=tfid.fit_transform(text)\n",
    "        pred2=model2.predict(text)\n",
    "        out=df.target_names[pred2[0]]\n",
    "        Label(win,text='processing..',bg='lightblue',fg='black',font='helvetica 15').place(relx=0.3,rely=0.2,relwidth=0.4,relheight=0.15)\n",
    "        Label(win,text='NewsTopic   :  '+out,fg='black').place(relx=0.25,rely=0.75,relwidth=0.5,relheight=0.1) \n",
    "        Label(win,text='Done.. ',bg='lightblue',fg='black',font='helvetica 15').place(relx=0.3,rely=0.2,relwidth=0.4,relheight=0.15)\n",
    "    else:\n",
    "        Label(win,text='Bad input...',bg='red',fg='black',font='helvetica 15').place(relx=0.3,rely=0.2,relwidth=0.4,relheight=0.15)     \n",
    "from tkinter import *\n",
    "import webbrowser\n",
    "win = Tk()\n",
    "win.resizable(False,False)\n",
    "win.title('NewsTopicsClassifier')\n",
    "canvass=Canvas(win,width=500,height=500).grid(row=0,column=0)\n",
    "e=Entry(win,width=50)\n",
    "e.grid(row=0,column=0)\n",
    "Label(win,text='Enter News Here..', bg='green',font='helvetica 15').place(relx=0,rely=0,relwidth=1,relheight=0.15)\n",
    "button=Button(win,text='Submit',command=action,bg='lightgreen').place(relx=0.3,rely=0.52,relwidth=0.4,relheight=0.07)\n",
    "button2=Button(win,text='Google',command=call,bg='lightgreen',fg='black').place(relx=0.4,rely=0.85,relwidth=0.2,relheight=0.05)\n",
    "foot=Label(win, bg='lightgreen',font='helvetica 15').place(relx=0,rely=0.9,relwidth=1,relheight=0.1)\n",
    "mainloop()"
   ]
  },
  {
   "cell_type": "code",
   "execution_count": null,
   "metadata": {},
   "outputs": [],
   "source": []
  },
  {
   "cell_type": "code",
   "execution_count": null,
   "metadata": {},
   "outputs": [],
   "source": [
    "\n"
   ]
  }
 ],
 "metadata": {
  "kernelspec": {
   "display_name": "Python 3",
   "language": "python",
   "name": "python3"
  },
  "language_info": {
   "codemirror_mode": {
    "name": "ipython",
    "version": 3
   },
   "file_extension": ".py",
   "mimetype": "text/x-python",
   "name": "python",
   "nbconvert_exporter": "python",
   "pygments_lexer": "ipython3",
   "version": "3.6.5"
  }
 },
 "nbformat": 4,
 "nbformat_minor": 2
}
